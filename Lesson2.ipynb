{
 "cells": [
  {
   "cell_type": "markdown",
   "id": "1d2218ca",
   "metadata": {},
   "source": [
    "# Lesson 2: Basic Networks"
   ]
  },
  {
   "cell_type": "code",
   "execution_count": 1,
   "id": "192f6de8",
   "metadata": {},
   "outputs": [],
   "source": [
    "import torch\n",
    "import torch.nn as nn\n",
    "from torch.optim import SGD\n",
    "import numpy as np\n",
    "import matplotlib.pyplot as plt"
   ]
  },
  {
   "cell_type": "markdown",
   "id": "01fc673b",
   "metadata": {},
   "source": [
    "## Pre-requisites:\n",
    "#### Object Oriented Programming:"
   ]
  },
  {
   "cell_type": "code",
   "execution_count": 2,
   "id": "6840f771",
   "metadata": {},
   "outputs": [],
   "source": [
    "class Particle():\n",
    "    def __init__(self, x, y, z, vx, vy,vz, m):\n",
    "        self.x = x\n",
    "        self.y = y\n",
    "        self.z = z\n",
    "        self.vx = vx\n",
    "        self.vy = vy\n",
    "        self.vz = vz\n",
    "        self.m = m\n",
    "    def move(self, t):\n",
    "        self.x += self.vx * t\n",
    "        self.y += self.vy * t\n",
    "        self.z += self.vz * t\n",
    "    def get_distance_from_origin(self):\n",
    "        return np.sqrt(self.x**2 + self.y**2 + self.z**2)\n",
    "                "
   ]
  },
  {
   "cell_type": "markdown",
   "id": "27856265",
   "metadata": {},
   "source": [
    "Create an instance of the class"
   ]
  },
  {
   "cell_type": "code",
   "execution_count": 3,
   "id": "8e0f5c46",
   "metadata": {},
   "outputs": [],
   "source": [
    "p1 = Particle(3, 0, 1, 1, 0, 0, 3)"
   ]
  },
  {
   "cell_type": "markdown",
   "id": "3cc71936",
   "metadata": {},
   "source": [
    "We can look at its attributes"
   ]
  },
  {
   "cell_type": "code",
   "execution_count": 4,
   "id": "8be6e6b2",
   "metadata": {},
   "outputs": [
    {
     "data": {
      "text/plain": [
       "3"
      ]
     },
     "execution_count": 4,
     "metadata": {},
     "output_type": "execute_result"
    }
   ],
   "source": [
    "p1.x"
   ]
  },
  {
   "cell_type": "markdown",
   "id": "544d002b",
   "metadata": {},
   "source": [
    "We can call on functions that modify the attributes of that particle"
   ]
  },
  {
   "cell_type": "code",
   "execution_count": 5,
   "id": "bacebeb0",
   "metadata": {},
   "outputs": [],
   "source": [
    "p1.move(2)"
   ]
  },
  {
   "cell_type": "code",
   "execution_count": 6,
   "id": "585a9e6e",
   "metadata": {},
   "outputs": [
    {
     "data": {
      "text/plain": [
       "5"
      ]
     },
     "execution_count": 6,
     "metadata": {},
     "output_type": "execute_result"
    }
   ],
   "source": [
    "p1.x"
   ]
  },
  {
   "cell_type": "markdown",
   "id": "517428bb",
   "metadata": {},
   "source": [
    "We can call on functions that return information about the particular instance"
   ]
  },
  {
   "cell_type": "code",
   "execution_count": 7,
   "id": "f0714220",
   "metadata": {},
   "outputs": [
    {
     "data": {
      "text/plain": [
       "5.0990195135927845"
      ]
     },
     "execution_count": 7,
     "metadata": {},
     "output_type": "execute_result"
    }
   ],
   "source": [
    "p1.get_distance_from_origin()"
   ]
  },
  {
   "cell_type": "markdown",
   "id": "196e1cd3",
   "metadata": {},
   "source": [
    "### Inheritance of classes\n",
    "We know from real life that a proton is particle. Therefore:\n",
    "* a proton has all the characteristics of a particle\n",
    "* a proton has unique traits that are not common to all particles\n",
    "\n",
    "This is precisely what a class inheritance allows us to play with\n",
    "* A **child** (proton) class inherits all the traits of its **parents** (particle). Furthermore, the child may have separate traits from its parent"
   ]
  },
  {
   "cell_type": "code",
   "execution_count": 8,
   "id": "ecbcaa23",
   "metadata": {},
   "outputs": [],
   "source": [
    "class Proton(Particle):\n",
    "    def __init__(self, x, y, z, vx, vy,vz):\n",
    "        self.q = 1.6e-19\n",
    "        self.m = 9.11e-31\n",
    "        super(Proton, self).__init__(x, y, z, vx, vy,vz, self.m)"
   ]
  },
  {
   "cell_type": "code",
   "execution_count": 9,
   "id": "c8f96e2c",
   "metadata": {},
   "outputs": [],
   "source": [
    "p = Proton(0,0,1,1,0,0)"
   ]
  },
  {
   "cell_type": "markdown",
   "id": "234a7dd1",
   "metadata": {},
   "source": [
    "It has the functionality of its parent"
   ]
  },
  {
   "cell_type": "code",
   "execution_count": 10,
   "id": "18a0e70f",
   "metadata": {},
   "outputs": [
    {
     "data": {
      "text/plain": [
       "2"
      ]
     },
     "execution_count": 10,
     "metadata": {},
     "output_type": "execute_result"
    }
   ],
   "source": [
    "p.move(2)\n",
    "p.x"
   ]
  },
  {
   "cell_type": "markdown",
   "id": "a7f4fb0b",
   "metadata": {},
   "source": [
    "We can give the child class additional attributtes\n",
    "* Since the proton is charged we need to redifine the move function to take into account the motion of the particle in the electric field"
   ]
  },
  {
   "cell_type": "code",
   "execution_count": 11,
   "id": "dec14ce9",
   "metadata": {},
   "outputs": [],
   "source": [
    "class Proton(Particle):\n",
    "    def __init__(self, x, y, z, vx, vy,vz):\n",
    "        self.q = 1.6e-19\n",
    "        self.m = 9.11e-31\n",
    "        super(Proton, self).__init__(x, y, z, vx, vy,vz, self.m)\n",
    "    def move(self, t, Ex, Ey, Ez):\n",
    "        self.x += self.vx * t + 0.5*(self.q / self.m)*Ex*t**2\n",
    "        self.y += self.vy * t + 0.5*(self.q / self.m)*Ey*t**2\n",
    "        self.z += self.vz * t + 0.5*(self.q / self.m)*Ez*t**2\n",
    "        self.vx += (self.q/self.m)*Ex*t\n",
    "        self.vy += (self.q/self.m)*Ey*t        \n",
    "        self.vz += (self.q/self.m)*Ez*t \n",
    "    def get_position(self):\n",
    "        return np.array([self.x, self.y, self.z])\n",
    "    def get_velocity(self):\n",
    "        return np.array([self.vx, self.vy, self.vz])"
   ]
  },
  {
   "cell_type": "code",
   "execution_count": 12,
   "id": "ab81ed98",
   "metadata": {},
   "outputs": [],
   "source": [
    "p = Proton(0,0,1,1,0,0)"
   ]
  },
  {
   "cell_type": "code",
   "execution_count": 13,
   "id": "0c07be43",
   "metadata": {},
   "outputs": [],
   "source": [
    "p.move(t=3, Ex=4e-12, Ey=3e-12, Ez=6e-12)"
   ]
  },
  {
   "cell_type": "code",
   "execution_count": 14,
   "id": "cf544509",
   "metadata": {},
   "outputs": [
    {
     "data": {
      "text/plain": [
       "array([6.16136114, 2.37102086, 5.74204171])"
      ]
     },
     "execution_count": 14,
     "metadata": {},
     "output_type": "execute_result"
    }
   ],
   "source": [
    "p.get_position()"
   ]
  },
  {
   "cell_type": "markdown",
   "id": "ad9aecc2",
   "metadata": {},
   "source": [
    "# Machine learning: \n",
    "### - General idea:\n",
    "Suppose one has data that consists of an independent vector and a dependet vector $x_i$ and $y_i$ (i is the ith value in the data set). For example:\n",
    "\n",
    "- $x_i$ is the height of the ith person, and $y_i$ is their weight (predict weight using height)\n",
    "- $x_i$ is a picture of a handwritten digit, and $y_i$ is the digit itself (predict numbers from handwritten numbers)\n",
    "- $x_i$ is CT scan of a patient, and $y_i$ are the corresponding pixels corresponding to tumours\n",
    "\n",
    "The goal of a **neural network** is as follows. Define a function $f$ that depends on parameters $a$ that make predictions\n",
    "\n",
    "$$\\hat{y}_i = f(x_i; a)$$\n",
    "\n",
    "One wants to make $\\hat{y}_i$ (the predictions) and $y_i$ (the true values) as close as possible by modifying the values of $a$. What does as close as possible mean? This depends on the task. In general, one defines a similarity function (or **Loss** function) $L(y, \\hat{y})$. The more similar the prediction and the true values are the smaller $L$ should be. For example one before it could be as simple as \n",
    "\n",
    "$$L(y, \\hat{y}) = \\sum (y_i - \\hat{y}_i)^2$$\n",
    "\n",
    "### - Simple neural network example:\n"
   ]
  },
  {
   "cell_type": "code",
   "execution_count": 15,
   "id": "b210d2c5",
   "metadata": {},
   "outputs": [
    {
     "data": {
      "text/plain": [
       "tensor([[6., 2.],\n",
       "        [5., 2.],\n",
       "        [1., 3.],\n",
       "        [7., 6.]])"
      ]
     },
     "execution_count": 15,
     "metadata": {},
     "output_type": "execute_result"
    }
   ],
   "source": [
    "x = torch.tensor([[6,2], [5,2], [1,3], [7,6]]).float()\n",
    "y = torch.tensor([1,5,2,5]).float()\n",
    "x"
   ]
  },
  {
   "cell_type": "code",
   "execution_count": 16,
   "id": "76f26f03",
   "metadata": {},
   "outputs": [
    {
     "data": {
      "text/plain": [
       "tensor([1., 5., 2., 5.])"
      ]
     },
     "execution_count": 16,
     "metadata": {},
     "output_type": "execute_result"
    }
   ],
   "source": [
    "y"
   ]
  },
  {
   "cell_type": "markdown",
   "id": "4cfaf630",
   "metadata": {},
   "source": [
    "Supposed we have measured a set of two values (a,b) and an associate value c so we want to develope a NN such we can predict the value c as follows\n",
    "\n",
    "$$(a, b) \\rightarrow c$$\n",
    " \n",
    "We want to find a fucntion $f$ that depends on parameters $a$ such that relation holds. \n",
    "\n",
    "**Idea**\n",
    "\n",
    "1. First multiply each element in x by a 8x2 matrix (this is 16 parameters $a_i$)\n",
    "2. Then multiply each element in y by a 8x1 matrix (this is 8 parameters $a_i$)\n",
    "\n",
    "Define the matrices (layers of the NN) \n",
    "\n",
    "* **Important** When the matrix is created, it is initially created with random values.\n",
    "\n",
    "#### nn.linear:\n",
    "It applies a linear transformation to the incoming data \n",
    "$$ y = x A^{T} + b$$\n",
    "\n",
    "* CLASS torch.nn.Linear(in_features, out_features, bias=True, device=None, dtype=None)\n",
    "\n",
    "in_features : size of each input sample\\\n",
    "out_features : size of each output sample\\\n",
    "bias : If set to False, the layer will not learn an additive bias. Default: True"
   ]
  },
  {
   "cell_type": "code",
   "execution_count": 36,
   "id": "2e6d1423",
   "metadata": {},
   "outputs": [
    {
     "data": {
      "text/plain": [
       "Linear(in_features=2, out_features=8, bias=False)"
      ]
     },
     "execution_count": 36,
     "metadata": {},
     "output_type": "execute_result"
    }
   ],
   "source": [
    "# it takes a 2D vector and returns an 8D vector\n",
    "M1 = nn.Linear(2, 8, bias = False)\n",
    "M1"
   ]
  },
  {
   "cell_type": "markdown",
   "id": "44eee7a9",
   "metadata": {},
   "source": [
    "If one pases a vector x (the dataset) where each element $x_i$ (an instance) is a 2d vector M will apply the same matrix multiplication to each element $x_i$"
   ]
  },
  {
   "cell_type": "code",
   "execution_count": 34,
   "id": "a7b847d7",
   "metadata": {},
   "outputs": [
    {
     "data": {
      "text/plain": [
       "tensor([[6., 2.],\n",
       "        [5., 2.],\n",
       "        [1., 3.],\n",
       "        [7., 6.]])"
      ]
     },
     "execution_count": 34,
     "metadata": {},
     "output_type": "execute_result"
    }
   ],
   "source": [
    "x"
   ]
  },
  {
   "cell_type": "code",
   "execution_count": 18,
   "id": "344f764e",
   "metadata": {},
   "outputs": [
    {
     "data": {
      "text/plain": [
       "tensor([[-1.3451,  1.5302, -4.7091,  1.9943,  2.2166,  2.9702,  2.0285, -1.3652],\n",
       "        [-1.0200,  1.2205, -4.1518,  1.6262,  1.8442,  2.4056,  1.8409, -1.2627],\n",
       "        [ 0.5831, -0.1824, -2.6049,  0.0467,  0.3456, -0.0610,  1.5423, -1.2283],\n",
       "        [-0.4593,  1.1837, -7.9966,  1.9339,  2.5532,  2.7007,  4.0224, -2.9687]],\n",
       "       grad_fn=<MmBackward0>)"
      ]
     },
     "execution_count": 18,
     "metadata": {},
     "output_type": "execute_result"
    }
   ],
   "source": [
    "M1(x)"
   ]
  },
  {
   "cell_type": "code",
   "execution_count": 19,
   "id": "8d846d50",
   "metadata": {},
   "outputs": [
    {
     "data": {
      "text/plain": [
       "Linear(in_features=8, out_features=1, bias=False)"
      ]
     },
     "execution_count": 19,
     "metadata": {},
     "output_type": "execute_result"
    }
   ],
   "source": [
    "# it takes a 8D vector and returns an 1D vector\n",
    "M2 = nn.Linear(8, 1, bias = False)\n",
    "M2"
   ]
  },
  {
   "cell_type": "code",
   "execution_count": 20,
   "id": "a6dd5bae",
   "metadata": {},
   "outputs": [
    {
     "data": {
      "text/plain": [
       "tensor([ 0.1986,  0.1154, -0.3672, -0.3187], grad_fn=<SqueezeBackward0>)"
      ]
     },
     "execution_count": 20,
     "metadata": {},
     "output_type": "execute_result"
    }
   ],
   "source": [
    "M2(M1(x)).squeeze() # .squeeze() remove the extra dimension 1 (4x1)"
   ]
  },
  {
   "cell_type": "code",
   "execution_count": 21,
   "id": "7eb0c737",
   "metadata": {},
   "outputs": [
    {
     "data": {
      "text/plain": [
       "tensor([1., 5., 2., 5.])"
      ]
     },
     "execution_count": 21,
     "metadata": {},
     "output_type": "execute_result"
    }
   ],
   "source": [
    "# not really similar to the true values\n",
    "y"
   ]
  },
  {
   "cell_type": "markdown",
   "id": "0a59ecbe",
   "metadata": {},
   "source": [
    "#### Training our model:\n",
    "The weights of the matrices M1 and M2 constitute the weights $a$ of the NN defined above. In order to optimize for these weights, we first construct our network $f$ as follows (using **OOP**)"
   ]
  },
  {
   "cell_type": "code",
   "execution_count": 22,
   "id": "b3d0d8d0",
   "metadata": {},
   "outputs": [],
   "source": [
    "class MyNeuralNet(nn.Module):\n",
    "    # nn.Module is called as a super class\n",
    "    def __init__(self):\n",
    "        super().__init__() # initializing the super module\n",
    "        self.Matrix1 = nn.Linear(2, 8, bias = False)\n",
    "        self.Matrix2 = nn.Linear(8, 1, bias = False)  \n",
    "    def forward(self, x):\n",
    "        x = self.Matrix1(x)\n",
    "        x = self.Matrix2(x)\n",
    "        return x.squeeze()"
   ]
  },
  {
   "cell_type": "code",
   "execution_count": 23,
   "id": "04642755",
   "metadata": {},
   "outputs": [],
   "source": [
    "f = MyNeuralNet()"
   ]
  },
  {
   "cell_type": "code",
   "execution_count": 24,
   "id": "775895a9",
   "metadata": {},
   "outputs": [
    {
     "data": {
      "text/plain": [
       "tensor([0.9490, 0.8915, 0.9639, 2.2150], grad_fn=<SqueezeBackward0>)"
      ]
     },
     "execution_count": 24,
     "metadata": {},
     "output_type": "execute_result"
    }
   ],
   "source": [
    "f(x)"
   ]
  },
  {
   "cell_type": "code",
   "execution_count": 25,
   "id": "bc4a09ee",
   "metadata": {},
   "outputs": [
    {
     "name": "stdout",
     "output_type": "stream",
     "text": [
      "Parameter containing:\n",
      "tensor([[ 0.1772, -0.6585],\n",
      "        [-0.4725, -0.0830],\n",
      "        [ 0.2566, -0.2689],\n",
      "        [-0.3241,  0.0499],\n",
      "        [ 0.4083,  0.3850],\n",
      "        [ 0.3872, -0.2431],\n",
      "        [ 0.0107, -0.1955],\n",
      "        [ 0.1964,  0.6912]], requires_grad=True)\n",
      "Parameter containing:\n",
      "tensor([[-0.0390, -0.2324, -0.0609,  0.2311,  0.0548, -0.1263,  0.3195,  0.3471]],\n",
      "       requires_grad=True)\n"
     ]
    }
   ],
   "source": [
    "for par in f.parameters():\n",
    "    print(par)"
   ]
  },
  {
   "cell_type": "markdown",
   "id": "20e9ea9b",
   "metadata": {},
   "source": [
    "Pass in data to the network"
   ]
  },
  {
   "cell_type": "code",
   "execution_count": 26,
   "id": "cae124d1",
   "metadata": {},
   "outputs": [
    {
     "data": {
      "text/plain": [
       "tensor([0.9490, 0.8915, 0.9639, 2.2150], grad_fn=<SqueezeBackward0>)"
      ]
     },
     "execution_count": 26,
     "metadata": {},
     "output_type": "execute_result"
    }
   ],
   "source": [
    "yhat = f(x)\n",
    "yhat"
   ]
  },
  {
   "cell_type": "code",
   "execution_count": 27,
   "id": "6e6d0f34",
   "metadata": {},
   "outputs": [
    {
     "data": {
      "text/plain": [
       "tensor([1., 5., 2., 5.])"
      ]
     },
     "execution_count": 27,
     "metadata": {},
     "output_type": "execute_result"
    }
   ],
   "source": [
    "y"
   ]
  },
  {
   "cell_type": "markdown",
   "id": "e4ce2e05",
   "metadata": {},
   "source": [
    "## Adjusting a so that $\\hat{y}$ and $y$ are similar:\n",
    "\n",
    "Now we define the loss function $L$, which provides a metric of similarity between $\\hat{y}$ and $y$. In this case, we will use the mean squared error loss funcion:"
   ]
  },
  {
   "cell_type": "code",
   "execution_count": 28,
   "id": "1313a035",
   "metadata": {},
   "outputs": [
    {
     "data": {
      "text/plain": [
       "tensor(6.4280, grad_fn=<MseLossBackward0>)"
      ]
     },
     "execution_count": 28,
     "metadata": {},
     "output_type": "execute_result"
    }
   ],
   "source": [
    "L = nn.MSELoss()\n",
    "L(y, yhat)"
   ]
  },
  {
   "cell_type": "markdown",
   "id": "7abdd284",
   "metadata": {},
   "source": [
    "Checking that this is indeed the mean squared error"
   ]
  },
  {
   "cell_type": "code",
   "execution_count": 29,
   "id": "e0880010",
   "metadata": {},
   "outputs": [
    {
     "data": {
      "text/plain": [
       "tensor(6.4280, grad_fn=<MeanBackward0>)"
      ]
     },
     "execution_count": 29,
     "metadata": {},
     "output_type": "execute_result"
    }
   ],
   "source": [
    "torch.mean((y - yhat)**2)"
   ]
  },
  {
   "cell_type": "markdown",
   "id": "dbe665f7",
   "metadata": {},
   "source": [
    "Note that L depends on $a$, since $\\hat{y}$ depends on the parameters of the NN (M1 and M2). In these sense, $L = L(a)$. The main idea behind machine learning is to compute\n",
    "\n",
    "$$\\frac{\\partial L}{\\partial a_i}$$\n",
    "\n",
    "for each parameter $a_i$ of the NN. Then we adjust each parameter as follows (gradient descent)\n",
    "\n",
    "$$a_i \\rightarrow a_i - \\ell \\cdot \\frac{\\partial L}{\\partial a_i}$$\n",
    "\n",
    "where $\\ell$ is the learning rate. \n",
    "\n",
    "The stochastic gradient descent **SGD** takes in all model parameters $a$ along with the learning rate $\\ell$."
   ]
  },
  {
   "cell_type": "code",
   "execution_count": 30,
   "id": "14af284c",
   "metadata": {},
   "outputs": [],
   "source": [
    "# Optimizer\n",
    "opt = SGD(f.parameters(), lr = 0.001)"
   ]
  },
  {
   "cell_type": "code",
   "execution_count": 31,
   "id": "3b0e4dd4",
   "metadata": {},
   "outputs": [],
   "source": [
    "losses = []\n",
    "for _ in range(50):\n",
    "    opt.zero_grad()\n",
    "    loss_value = L(f(x), y) # compute loss\n",
    "    loss_value.backward() # compute gradient\n",
    "    opt.step() # perform iteration using gradient above\n",
    "    losses.append(loss_value.item())"
   ]
  },
  {
   "cell_type": "markdown",
   "id": "c9814560",
   "metadata": {},
   "source": [
    "Plot $L(a)$ as a function of number of iterations"
   ]
  },
  {
   "cell_type": "code",
   "execution_count": 32,
   "id": "5f16854d",
   "metadata": {},
   "outputs": [
    {
     "data": {
      "image/png": "[encoded data removed]",
      "text/plain": [
       "<Figure size 640x480 with 1 Axes>"
      ]
     },
     "metadata": {},
     "output_type": "display_data"
    }
   ],
   "source": [
    "fig, ax = plt.subplots()\n",
    "ax.plot(np.array(losses))\n",
    "ax.set_xlabel('Iteration number')\n",
    "ax.set_ylabel('SGD')\n",
    "plt.show()"
   ]
  }
 ],
 "metadata": {
  "kernelspec": {
   "display_name": "Python 3 (ipykernel)",
   "language": "python",
   "name": "python3"
  },
  "language_info": {
   "codemirror_mode": {
    "name": "ipython",
    "version": 3
   },
   "file_extension": ".py",
   "mimetype": "text/x-python",
   "name": "python",
   "nbconvert_exporter": "python",
   "pygments_lexer": "ipython3",
   "version": "3.10.8"
  }
 },
 "nbformat": 4,
 "nbformat_minor": 5
}
