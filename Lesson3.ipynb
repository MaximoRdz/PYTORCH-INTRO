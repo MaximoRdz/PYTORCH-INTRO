{
 "cells": [
  {
   "cell_type": "markdown",
   "id": "1403c576",
   "metadata": {},
   "source": [
    "# Lesson 3: The Sequential Network"
   ]
  },
  {
   "cell_type": "code",
   "execution_count": 10,
   "id": "a051b997",
   "metadata": {},
   "outputs": [],
   "source": [
    "import matplotlib.pyplot as plt\n",
    "import numpy as np\n",
    "\n",
    "import torch\n",
    "import torch.nn as nn\n",
    "from torch.optim import SGD"
   ]
  },
  {
   "cell_type": "markdown",
   "id": "d3c50b88",
   "metadata": {},
   "source": [
    "## Last lesson:\n",
    "We tried to find a function such $f(x_i) = y_i$ we choose it to have the form:\n",
    "\n",
    "$$f(x) = M_2 M_1 x$$\n",
    "\n",
    "where $M_1$ is a 8x2 matrix and $M_2$ is a 1x8 matrix. We did this in order to have $16 + 8$ free parameters, but the predictions we got were not really accurate."
   ]
  },
  {
   "cell_type": "code",
   "execution_count": 11,
   "id": "187c2ea3",
   "metadata": {},
   "outputs": [],
   "source": [
    "# Lesson 2 NN\n",
    "x = torch.tensor([[6,2], [5,2], [1,3], [7,6]]).float()\n",
    "y = torch.tensor([1,5,2,5]).float()\n",
    "\n",
    "class MyNeuralNet(nn.Module):\n",
    "    # nn.Module is called as a super class\n",
    "    def __init__(self):\n",
    "        super().__init__() # initializing the super module\n",
    "        self.Matrix1 = nn.Linear(2, 8, bias = False)\n",
    "        self.Matrix2 = nn.Linear(8, 1, bias = False)  \n",
    "    def forward(self, x):\n",
    "        x = self.Matrix1(x)\n",
    "        x = self.Matrix2(x)\n",
    "        return x.squeeze()\n",
    "    \n",
    "f = MyNeuralNet()\n",
    "opt = SGD(f.parameters(), lr = 0.001)\n",
    "L = nn.MSELoss()\n",
    "\n",
    "# Train model\n",
    "losses = []\n",
    "for _ in range(50):\n",
    "    opt.zero_grad()\n",
    "    loss_value = L(f(x), y) # compute loss\n",
    "    loss_value.backward() # compute gradient\n",
    "    opt.step() # perform iteration using gradient above\n",
    "    losses.append(loss_value.item())"
   ]
  },
  {
   "cell_type": "code",
   "execution_count": 12,
   "id": "6afba7ea",
   "metadata": {},
   "outputs": [
    {
     "data": {
      "image/png": "[encoded data removed]",
      "text/plain": [
       "<Figure size 432x288 with 1 Axes>"
      ]
     },
     "metadata": {
      "needs_background": "light"
     },
     "output_type": "display_data"
    }
   ],
   "source": [
    "fig, ax = plt.subplots()\n",
    "ax.plot(losses)\n",
    "plt.show()"
   ]
  },
  {
   "cell_type": "markdown",
   "id": "f29ee94f",
   "metadata": {},
   "source": [
    "## Why did we get inaccurate predictions?\n",
    "\n",
    "Although there were $24$ parameters in the two matrices, since they were operating in the fashion\n",
    "\n",
    "$$M_2 M_1 = B$$\n",
    "\n",
    "$B$ results in 1x2 matrix so there were really **only two independent parameters** which insufficient to solve the problem accurately\n",
    "\n",
    "### Advance machine learning models thanks to linear algebra simplicity:\n",
    "\n",
    "**The crux of machine learning** is using the simplicity of linear algebra (matrices and vector operations to transform data), this lies on the so-called activation fuction (avoiding the matrices collapsing into just one matrix like before)\n",
    "* **Old model:** $$f(x) = M_2 M_1 x$$\n",
    "* **New model:** $$f(x) = M_2 R(M_1 x)$$\n",
    "\n",
    "where $R$ is an element-wise operator defined by\n",
    "\n",
    "$$\n",
    "\\begin{equation}\n",
    "R(x)=\\Bigg\\{ \n",
    "\\begin{split}\n",
    "&x \\quad x > 0 \\\\\n",
    "&0 \\quad x \\leq 0\n",
    "\\end{split}\n",
    "\\end{equation}\n",
    "$$\n",
    "\n",
    "We can observe the behaviour of this activation function:"
   ]
  },
  {
   "cell_type": "code",
   "execution_count": 13,
   "id": "f7885727",
   "metadata": {},
   "outputs": [
    {
     "data": {
      "text/plain": [
       "tensor([[ 1,  2, -2,  1, -5, -1,  6],\n",
       "        [-2,  2,  2, -6,  5, -1,  6]])"
      ]
     },
     "execution_count": 13,
     "metadata": {},
     "output_type": "execute_result"
    }
   ],
   "source": [
    "x = torch.tensor([[1,2,-2,1,-5,-1,6], [-2,2,2,-6,5,-1,6]])\n",
    "x"
   ]
  },
  {
   "cell_type": "code",
   "execution_count": 14,
   "id": "de0ab63c",
   "metadata": {},
   "outputs": [
    {
     "data": {
      "text/plain": [
       "tensor([[1, 2, 0, 1, 0, 0, 6],\n",
       "        [0, 2, 2, 0, 5, 0, 6]])"
      ]
     },
     "execution_count": 14,
     "metadata": {},
     "output_type": "execute_result"
    }
   ],
   "source": [
    "R = nn.ReLU()\n",
    "R(x)"
   ]
  },
  {
   "cell_type": "markdown",
   "id": "1fb42ee5",
   "metadata": {},
   "source": [
    "#### Does our model improve with this simple adjustment?"
   ]
  },
  {
   "cell_type": "code",
   "execution_count": 15,
   "id": "21d3acca",
   "metadata": {},
   "outputs": [],
   "source": [
    "class MyNeuralNet2(nn.Module):\n",
    "    # nn.Module is called as a super class\n",
    "    def __init__(self):\n",
    "        super().__init__() # initializing the super module\n",
    "        self.Matrix1 = nn.Linear(2, 8, bias = False)\n",
    "        self.Matrix2 = nn.Linear(8, 1, bias = False)\n",
    "        self.R = nn.ReLU()\n",
    "    def forward(self, x):\n",
    "        x = self.R(self.Matrix1(x))\n",
    "        x = self.Matrix2(x)\n",
    "        return x.squeeze()"
   ]
  },
  {
   "cell_type": "code",
   "execution_count": 16,
   "id": "e7521c52",
   "metadata": {},
   "outputs": [],
   "source": [
    "def train_model(x, y, f, n_epochs = 50):\n",
    "    opt = SGD(f.parameters(), lr = 0.001)\n",
    "    L = nn.MSELoss()\n",
    "\n",
    "    losses = []\n",
    "    for _ in range(n_epochs):\n",
    "        opt.zero_grad()\n",
    "        loss_value = L(f(x), y) # compute loss\n",
    "        loss_value.backward() # compute gradient\n",
    "        opt.step() # perform iteration using gradient above\n",
    "        losses.append(loss_value.item())\n",
    "    \n",
    "    return f, losses"
   ]
  },
  {
   "cell_type": "code",
   "execution_count": 17,
   "id": "de44c8ac",
   "metadata": {},
   "outputs": [],
   "source": [
    "x = torch.tensor([[6,2], [5,2], [1,3], [7,6]]).float()\n",
    "y = torch.tensor([1,5,2,5]).float()\n",
    "f2 = MyNeuralNet2()\n",
    "f2, losses2 = train_model(x, y, f2, n_epochs = 5000)"
   ]
  },
  {
   "cell_type": "markdown",
   "id": "bea6e9c3",
   "metadata": {},
   "source": [
    "Looking the predictions"
   ]
  },
  {
   "cell_type": "code",
   "execution_count": 18,
   "id": "76bf350d",
   "metadata": {},
   "outputs": [
    {
     "data": {
      "text/plain": [
       "tensor([1., 5., 2., 5.])"
      ]
     },
     "execution_count": 18,
     "metadata": {},
     "output_type": "execute_result"
    }
   ],
   "source": [
    "y"
   ]
  },
  {
   "cell_type": "code",
   "execution_count": 19,
   "id": "8540b9b9",
   "metadata": {},
   "outputs": [
    {
     "data": {
      "text/plain": [
       "tensor([2.3560, 2.9681, 1.9378, 5.2608], grad_fn=<SqueezeBackward0>)"
      ]
     },
     "execution_count": 19,
     "metadata": {},
     "output_type": "execute_result"
    }
   ],
   "source": [
    "f2(x)"
   ]
  },
  {
   "cell_type": "markdown",
   "id": "d953d0aa",
   "metadata": {},
   "source": [
    "### Real advantage of non-linearity: Much larger matrices.\n",
    "Now that the parameters are trully independent thanks to the use of $R(x)$"
   ]
  },
  {
   "cell_type": "code",
   "execution_count": 20,
   "id": "c18489e1",
   "metadata": {},
   "outputs": [],
   "source": [
    "class MyNeuralNet3(nn.Module):\n",
    "    # lets try 240 parameters\n",
    "    def __init__(self):\n",
    "        super().__init__() # initializing the super module\n",
    "        self.Matrix1 = nn.Linear(2, 80, bias = False) # 80x2 \n",
    "        self.Matrix2 = nn.Linear(80, 1, bias = False) # 1x80 \n",
    "        self.R = nn.ReLU()\n",
    "    def forward(self, x):\n",
    "        x = self.R(self.Matrix1(x))\n",
    "        x = self.Matrix2(x)\n",
    "        return x.squeeze()"
   ]
  },
  {
   "cell_type": "code",
   "execution_count": 21,
   "id": "c344d83e",
   "metadata": {},
   "outputs": [],
   "source": [
    "f3 = MyNeuralNet3()\n",
    "f3, losses3 = train_model(x, y, f3, n_epochs = 5000)"
   ]
  },
  {
   "cell_type": "markdown",
   "id": "18587364",
   "metadata": {},
   "source": [
    "Predictions:"
   ]
  },
  {
   "cell_type": "code",
   "execution_count": 22,
   "id": "64482fec",
   "metadata": {},
   "outputs": [
    {
     "data": {
      "text/plain": [
       "tensor([1., 5., 2., 5.])"
      ]
     },
     "execution_count": 22,
     "metadata": {},
     "output_type": "execute_result"
    }
   ],
   "source": [
    "y"
   ]
  },
  {
   "cell_type": "code",
   "execution_count": 23,
   "id": "97481116",
   "metadata": {},
   "outputs": [
    {
     "data": {
      "text/plain": [
       "tensor([2.0141, 3.5955, 1.9459, 5.1629], grad_fn=<SqueezeBackward0>)"
      ]
     },
     "execution_count": 23,
     "metadata": {},
     "output_type": "execute_result"
    }
   ],
   "source": [
    "f3(x)"
   ]
  },
  {
   "cell_type": "markdown",
   "id": "04cb7b8d",
   "metadata": {},
   "source": [
    "**Comparisson of the models**"
   ]
  },
  {
   "cell_type": "code",
   "execution_count": 24,
   "id": "5d5647cd",
   "metadata": {},
   "outputs": [
    {
     "data": {
      "image/png": "[encoded data removed]",
      "text/plain": [
       "<Figure size 432x288 with 1 Axes>"
      ]
     },
     "metadata": {
      "needs_background": "light"
     },
     "output_type": "display_data"
    }
   ],
   "source": [
    "fig, ax = plt.subplots()\n",
    "ax.plot(losses, label = '2 params')\n",
    "ax.plot(losses2, label = '24 params')\n",
    "ax.plot(losses3, label = '240 params')\n",
    "ax.legend()\n",
    "plt.show()"
   ]
  },
  {
   "cell_type": "markdown",
   "id": "733d9470",
   "metadata": {},
   "source": [
    "### Bias vectors:\n",
    "We can make our models even better introducing more parameters:\n",
    "\n",
    "$$f(x) = A_2 R(A_1 x + b_1) + b_2$$\n",
    "\n",
    "where $b_1$ and $b_2$ are vectors added to each of the linear transformations.\n",
    "\n",
    "* **Old model:** $$f(x) = A_2 R(A_1 x)$$\n",
    "* **New model:** $$f(x) = A_2 R(A_1 x + b_1) + b_2$$\n",
    "keeping $A_2$ a $1x80$ matrix and $A_1$ a $80x2$ matrix"
   ]
  },
  {
   "cell_type": "code",
   "execution_count": 25,
   "id": "bae378f4",
   "metadata": {},
   "outputs": [],
   "source": [
    "class MyNeuralNet4(nn.Module):\n",
    "    # lets try 240 parameters\n",
    "    def __init__(self):\n",
    "        super().__init__() # initializing the super module\n",
    "        self.Matrix1 = nn.Linear(2, 80) # bias is set to true by default\n",
    "        self.Matrix2 = nn.Linear(80, 1) \n",
    "        self.R = nn.ReLU()\n",
    "    def forward(self, x):\n",
    "        x = self.R(self.Matrix1(x))\n",
    "        x = self.Matrix2(x)\n",
    "        return x.squeeze()"
   ]
  },
  {
   "cell_type": "code",
   "execution_count": 26,
   "id": "5f8ccad7",
   "metadata": {},
   "outputs": [],
   "source": [
    "f4 = MyNeuralNet4()\n",
    "f4, losses4 = train_model(x, y, f4, n_epochs = 5000)"
   ]
  },
  {
   "cell_type": "markdown",
   "id": "2b53bb18",
   "metadata": {},
   "source": [
    "predictions"
   ]
  },
  {
   "cell_type": "code",
   "execution_count": 27,
   "id": "36e9fc1c",
   "metadata": {},
   "outputs": [
    {
     "data": {
      "text/plain": [
       "tensor([1., 5., 2., 5.])"
      ]
     },
     "execution_count": 27,
     "metadata": {},
     "output_type": "execute_result"
    }
   ],
   "source": [
    "y"
   ]
  },
  {
   "cell_type": "code",
   "execution_count": 28,
   "id": "5683fabd",
   "metadata": {},
   "outputs": [
    {
     "data": {
      "text/plain": [
       "tensor([1.3737, 4.5032, 2.0065, 5.0335], grad_fn=<SqueezeBackward0>)"
      ]
     },
     "execution_count": 28,
     "metadata": {},
     "output_type": "execute_result"
    }
   ],
   "source": [
    "f4(x)"
   ]
  },
  {
   "cell_type": "markdown",
   "id": "990f80fd",
   "metadata": {},
   "source": [
    "### Overfitting?\n",
    "\n",
    "* **Old model:** $$f(x) = A_2 R(A_1 x + b_1) + b_2$$\n",
    "* **New model:** $$f(x) = A_3 R(A_2 R(A_1 x + b_1) + b_2)$$ where $A_2$ is a $80x80$ matrix and $A_3$ is $1x80$"
   ]
  },
  {
   "cell_type": "code",
   "execution_count": 29,
   "id": "56a94b7a",
   "metadata": {},
   "outputs": [],
   "source": [
    "class MyNeuralNet5(nn.Module):\n",
    "    def __init__(self):\n",
    "        super().__init__() # initializing the super module\n",
    "        self.Matrix1 = nn.Linear(2, 80) # bias is set to true by default\n",
    "        self.Matrix2 = nn.Linear(80, 80) \n",
    "        self.Matrix3 = nn.Linear(80, 1) \n",
    "        self.R = nn.ReLU()\n",
    "        \n",
    "    def forward(self, x):\n",
    "        x = self.R(self.Matrix1(x))\n",
    "        x = self.R(self.Matrix2(x))\n",
    "        x = self.Matrix3(x)\n",
    "        return x.squeeze()"
   ]
  },
  {
   "cell_type": "code",
   "execution_count": 30,
   "id": "2ef3bc54",
   "metadata": {},
   "outputs": [],
   "source": [
    "x = torch.tensor([[6,2], [5,2], [1,3], [7,6]]).float()\n",
    "y = torch.tensor([1,5,2,5]).float()\n",
    "f5 = MyNeuralNet5()\n",
    "f5, losses5 = train_model(x, y, f5, n_epochs = 5000)"
   ]
  },
  {
   "cell_type": "markdown",
   "id": "b4f1c2e0",
   "metadata": {},
   "source": [
    "predictions"
   ]
  },
  {
   "cell_type": "code",
   "execution_count": 31,
   "id": "e4a25dc6",
   "metadata": {},
   "outputs": [
    {
     "data": {
      "text/plain": [
       "tensor([1., 5., 2., 5.])"
      ]
     },
     "execution_count": 31,
     "metadata": {},
     "output_type": "execute_result"
    }
   ],
   "source": [
    "y"
   ]
  },
  {
   "cell_type": "code",
   "execution_count": 32,
   "id": "9351ca4c",
   "metadata": {},
   "outputs": [
    {
     "data": {
      "text/plain": [
       "tensor([1.0006, 4.9990, 2.0000, 4.9999], grad_fn=<SqueezeBackward0>)"
      ]
     },
     "execution_count": 32,
     "metadata": {},
     "output_type": "execute_result"
    }
   ],
   "source": [
    "f5(x)"
   ]
  },
  {
   "cell_type": "code",
   "execution_count": 33,
   "id": "daa6a485",
   "metadata": {},
   "outputs": [
    {
     "data": {
      "image/png": "[encoded data removed]",
      "text/plain": [
       "<Figure size 432x288 with 1 Axes>"
      ]
     },
     "metadata": {
      "needs_background": "light"
     },
     "output_type": "display_data"
    }
   ],
   "source": [
    "fig, ax = plt.subplots()\n",
    "ax.plot(losses, label = 'f1')\n",
    "ax.plot(losses2, label = 'f2')\n",
    "ax.plot(losses3, label = 'f3')\n",
    "ax.plot(losses4, label = 'f4')\n",
    "ax.plot(losses5, label = 'f5')\n",
    "ax.legend()\n",
    "plt.show()"
   ]
  },
  {
   "cell_type": "markdown",
   "id": "240fdf33",
   "metadata": {},
   "source": [
    "### The sequential Neural Network\n",
    "\n",
    "A mathematical way of describing the structure we have been using is\n",
    "\n",
    "$$\n",
    "f(x) = {\\huge\\kappa}^{n}_{i=1} R_i (A_i x + b_i)\n",
    "$$\n",
    "\n",
    "where ${\\huge\\kappa}^{n}_{i=1} f_i(x) = f_n \\circ f_{n-1} \\circ ... \\circ  f_1 (x)$"
   ]
  },
  {
   "cell_type": "code",
   "execution_count": null,
   "id": "47e35e41",
   "metadata": {},
   "outputs": [],
   "source": []
  }
 ],
 "metadata": {
  "kernelspec": {
   "display_name": "Python 3 (ipykernel)",
   "language": "python",
   "name": "python3"
  },
  "language_info": {
   "codemirror_mode": {
    "name": "ipython",
    "version": 3
   },
   "file_extension": ".py",
   "mimetype": "text/x-python",
   "name": "python",
   "nbconvert_exporter": "python",
   "pygments_lexer": "ipython3",
   "version": "3.10.8"
  }
 },
 "nbformat": 4,
 "nbformat_minor": 5
}
