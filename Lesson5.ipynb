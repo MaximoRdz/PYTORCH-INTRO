{
 "cells": [
  {
   "cell_type": "code",
   "execution_count": 1,
   "id": "93e38b0e",
   "metadata": {},
   "outputs": [],
   "source": [
    "import os\n",
    "os.environ[\"KMP_DUPLICATE_LIB_OK\"]=\"TRUE\"\n",
    "\n",
    "\n",
    "import torch \n",
    "import torch.nn as nn\n",
    "from torch.optim import SGD\n",
    "import torch.nn.functional as F\n",
    "from torch.utils.data import Dataset, DataLoader\n",
    "import torchvision\n",
    "from mnist import MNIST\n",
    "import numpy as np\n",
    "import matplotlib.pyplot as plt"
   ]
  },
  {
   "cell_type": "markdown",
   "id": "2fedd0c4",
   "metadata": {},
   "source": [
    "### Last lesson:\n",
    "**The sequential Neural Network**\n",
    "\n",
    "A mathematical way of describing the structure we have been using is\n",
    "\n",
    "$$f(x) = {\\huge\\kappa}^{n}_{i=1} R_i (A_i x + b_i)$$\n",
    "\n",
    "where \n",
    "$${\\huge\\kappa}^{n}_{i=1} f_i(x) = f_n \\circ f_{n-1} \\circ ... \\circ  f_1 (x)$$\n",
    "and $A_i$ are matrices and the $b_i$ are bias vectors. $R_i$ are the activation functions.\n",
    "\n",
    "- **Note**: In clever architectures, like convolutional neural networks, the $A_i$'s become sparse matrices (most elements are fixed to equal zero)\n",
    "\n",
    "## MNIST Dataset"
   ]
  },
  {
   "cell_type": "code",
   "execution_count": 2,
   "id": "24baab83",
   "metadata": {},
   "outputs": [],
   "source": [
    "data = MNIST('mnist')\n",
    "\n",
    "x, y = data.load_training()\n",
    "x = torch.tensor(x).reshape(60000, 28, 28)\n",
    "y = torch.tensor(y)"
   ]
  },
  {
   "cell_type": "markdown",
   "id": "36f2e2dd",
   "metadata": {},
   "source": [
    "Now we've load 60000 images of $28x28$"
   ]
  },
  {
   "cell_type": "code",
   "execution_count": 5,
   "id": "dbb15fed",
   "metadata": {},
   "outputs": [],
   "source": [
    "def plot_image(xi, yi):\n",
    "    plt.imshow(xi.numpy())\n",
    "    plt.title('Number {}'.format(yi))\n",
    "    plt.colorbar()\n",
    "    plt.show()"
   ]
  },
  {
   "cell_type": "markdown",
   "id": "3f610af8",
   "metadata": {},
   "source": [
    "example"
   ]
  },
  {
   "cell_type": "code",
   "execution_count": 6,
   "id": "93e3b3f6",
   "metadata": {},
   "outputs": [
    {
     "data": {
      "image/png": "[encoded data removed]",
      "text/plain": [
       "<Figure size 432x288 with 2 Axes>"
      ]
     },
     "metadata": {
      "needs_background": "light"
     },
     "output_type": "display_data"
    }
   ],
   "source": [
    "plot_image(x[30], y[30])"
   ]
  },
  {
   "cell_type": "markdown",
   "id": "6493e05c",
   "metadata": {},
   "source": [
    "## The hot one encoder\n",
    "Brief theory section, when dealing with classification tasks the fact that the image above shows a $4$ does not mean that image has a larger magnitude than if it was a $2$ for example, we only care about the **class** they belong to, so instead of treating that label like a number we can **encode** it so it represents a class"
   ]
  },
  {
   "cell_type": "code",
   "execution_count": 17,
   "id": "61d00b1a",
   "metadata": {},
   "outputs": [
    {
     "data": {
      "text/plain": [
       "tensor([2, 4, 3, 0, 1, 6])"
      ]
     },
     "execution_count": 17,
     "metadata": {},
     "output_type": "execute_result"
    }
   ],
   "source": [
    "y_original = torch.tensor([2, 4, 3, 0, 1, 6])\n",
    "y_original"
   ]
  },
  {
   "cell_type": "code",
   "execution_count": 18,
   "id": "3695bf13",
   "metadata": {},
   "outputs": [
    {
     "data": {
      "text/plain": [
       "tensor([[0, 0, 1, 0, 0, 0, 0],\n",
       "        [0, 0, 0, 0, 1, 0, 0],\n",
       "        [0, 0, 0, 1, 0, 0, 0],\n",
       "        [1, 0, 0, 0, 0, 0, 0],\n",
       "        [0, 1, 0, 0, 0, 0, 0],\n",
       "        [0, 0, 0, 0, 0, 0, 1]])"
      ]
     },
     "execution_count": 18,
     "metadata": {},
     "output_type": "execute_result"
    }
   ],
   "source": [
    "y_new = F.one_hot(y_original)\n",
    "y_new"
   ]
  },
  {
   "cell_type": "markdown",
   "id": "4244ef0b",
   "metadata": {},
   "source": [
    "now that it is encode we see that the number $2$ belongs to the second class, the number $4$ to the fourth, etc. In a nutshell we've created a vector encoding where we have as many places as there are classes and belonging to a class means having $1$ in that position of the vector. \n",
    "\n",
    "This unit vectors are very efficient to work with when using the **cross entropy loss function**, we can interpret each position as the probability of the image belonging to that class (probability mass function of known data)\n",
    "\n",
    "### Using the hot one encoder on the Dataset MNIST\n",
    "In this dataset we have $60000$ different images of numbers from $0$ to $9$ so"
   ]
  },
  {
   "cell_type": "code",
   "execution_count": 7,
   "id": "c7d199ef",
   "metadata": {},
   "outputs": [
    {
     "data": {
      "text/plain": [
       "torch.Size([60000])"
      ]
     },
     "execution_count": 7,
     "metadata": {},
     "output_type": "execute_result"
    }
   ],
   "source": [
    "y.shape"
   ]
  },
  {
   "cell_type": "code",
   "execution_count": 8,
   "id": "505fa373",
   "metadata": {},
   "outputs": [
    {
     "data": {
      "text/plain": [
       "torch.Size([60000, 10])"
      ]
     },
     "execution_count": 8,
     "metadata": {},
     "output_type": "execute_result"
    }
   ],
   "source": [
    "y_new = F.one_hot(y, num_classes = 10)\n",
    "y_new.shape"
   ]
  },
  {
   "cell_type": "code",
   "execution_count": 9,
   "id": "b377fe0f",
   "metadata": {},
   "outputs": [
    {
     "data": {
      "text/plain": [
       "tensor([[0, 0, 0,  ..., 0, 0, 0],\n",
       "        [1, 0, 0,  ..., 0, 0, 0],\n",
       "        [0, 0, 0,  ..., 0, 0, 0],\n",
       "        ...,\n",
       "        [0, 0, 0,  ..., 0, 0, 0],\n",
       "        [0, 0, 0,  ..., 0, 0, 0],\n",
       "        [0, 0, 0,  ..., 0, 1, 0]])"
      ]
     },
     "execution_count": 9,
     "metadata": {},
     "output_type": "execute_result"
    }
   ],
   "source": [
    "y_new"
   ]
  },
  {
   "cell_type": "markdown",
   "id": "86dbc468",
   "metadata": {},
   "source": [
    "### Preparing the data for Deep Learning:\n",
    "\n",
    "As we've seen in previous lectures we are looking for a function such that given a sample $x_i$ (vector) we get a prediction $y_i$\n",
    "\n",
    "$$y_i = f(x_i)$$\n",
    "\n",
    "In this case each sample $x_i$ is a $28x28$ image so we need to transform it into a usable vector form:"
   ]
  },
  {
   "cell_type": "code",
   "execution_count": 10,
   "id": "3815f51e",
   "metadata": {},
   "outputs": [
    {
     "data": {
      "text/plain": [
       "torch.Size([60000, 28, 28])"
      ]
     },
     "execution_count": 10,
     "metadata": {},
     "output_type": "execute_result"
    }
   ],
   "source": [
    "x.shape"
   ]
  },
  {
   "cell_type": "code",
   "execution_count": 11,
   "id": "60d5a962",
   "metadata": {},
   "outputs": [
    {
     "data": {
      "text/plain": [
       "torch.Size([60000, 784])"
      ]
     },
     "execution_count": 11,
     "metadata": {},
     "output_type": "execute_result"
    }
   ],
   "source": [
    "# transforming the data with the .view() built-in method of tensors\n",
    "\"\"\"-1 is a PyTorch alias for \"infer this dimension given the others\n",
    "    have all been specified\" (i.e. the quotient of the original \n",
    "    product by the new product). It is a convention taken from \n",
    "    numpy.reshape().\n",
    "    Hence t.view(1,17) in the example would be equivalent to \n",
    "    t.view(1,-1) or t.view(-1,17).\"\"\"\n",
    "x.view(-1, 28*28).shape"
   ]
  },
  {
   "cell_type": "markdown",
   "id": "8ef65b88",
   "metadata": {},
   "source": [
    "# Pytorch Dataset and Dataloader Objects"
   ]
  },
  {
   "cell_type": "code",
   "execution_count": 12,
   "id": "1c714e6e",
   "metadata": {},
   "outputs": [],
   "source": [
    "Dataset?"
   ]
  },
  {
   "cell_type": "code",
   "execution_count": 14,
   "id": "91f8aa10",
   "metadata": {},
   "outputs": [],
   "source": [
    "DataLoader?"
   ]
  },
  {
   "cell_type": "markdown",
   "id": "acd95763",
   "metadata": {},
   "source": [
    "Theese are classes that help us load and process data for deep learning applications. \n",
    "Since deep learning requires a lot of data so we need to load it and process it efficiently.\n",
    "The Dataset class have access to all our data, the DataLoader class is fed with the Dataset object.\n",
    "\n",
    "**How do theese classes access our data?**\n",
    "\n",
    "When ask for samples the dataloader class calls the dataset in a parallelized fashion getting individual samples that will process and unite in the form of batches which can be acessed to when using 'for batch in trainloader'"
   ]
  },
  {
   "cell_type": "code",
   "execution_count": 2,
   "id": "dbaa507d",
   "metadata": {},
   "outputs": [],
   "source": [
    "class CTDataset(Dataset):\n",
    "    def __init__(self, dtype):\n",
    "        data = MNIST('mnist')\n",
    "        if dtype == 'train':\n",
    "            x, y = data.load_training()\n",
    "            self.x = torch.tensor(x).reshape(60000, 28, 28)\n",
    "            self.y = torch.tensor(y)\n",
    "        else:\n",
    "            x, y = data.load_testing()\n",
    "            self.x = torch.tensor(x).reshape(10000, 28, 28)\n",
    "            self.y = torch.tensor(y)\n",
    "        self.x = self.x / 255. # normalization of RGB format\n",
    "        self.y = F.one_hot(self.y, num_classes = 10).to(float)\n",
    "    def __len__(self):\n",
    "        return self.x.shape[0] # number of images\n",
    "    def __getitem__(self, ix):\n",
    "        return self.x[ix], self.y[ix] # complete image and label of the ix-th image"
   ]
  },
  {
   "cell_type": "code",
   "execution_count": 3,
   "id": "f9aad6a8",
   "metadata": {},
   "outputs": [],
   "source": [
    "train_ds = CTDataset('train')\n",
    "test_ds = CTDataset('test')"
   ]
  },
  {
   "cell_type": "code",
   "execution_count": 6,
   "id": "7e710cea",
   "metadata": {},
   "outputs": [
    {
     "data": {
      "image/png": "[encoded data removed]",
      "text/plain": [
       "<Figure size 432x288 with 2 Axes>"
      ]
     },
     "metadata": {
      "needs_background": "light"
     },
     "output_type": "display_data"
    }
   ],
   "source": [
    "plot_image(*train_ds[30]) # example of the getitem bult-in method"
   ]
  },
  {
   "cell_type": "markdown",
   "id": "1a4c2e73",
   "metadata": {},
   "source": [
    "### We can also use slicing:"
   ]
  },
  {
   "cell_type": "code",
   "execution_count": 8,
   "id": "576b8f5b",
   "metadata": {},
   "outputs": [
    {
     "data": {
      "text/plain": [
       "torch.Size([5, 28, 28])"
      ]
     },
     "execution_count": 8,
     "metadata": {},
     "output_type": "execute_result"
    }
   ],
   "source": [
    "train_ds[5:10][0].shape"
   ]
  },
  {
   "cell_type": "code",
   "execution_count": 9,
   "id": "a4fbc5e1",
   "metadata": {},
   "outputs": [
    {
     "data": {
      "text/plain": [
       "tensor([[0., 0., 1., 0., 0., 0., 0., 0., 0., 0.],\n",
       "        [0., 1., 0., 0., 0., 0., 0., 0., 0., 0.],\n",
       "        [0., 0., 0., 1., 0., 0., 0., 0., 0., 0.],\n",
       "        [0., 1., 0., 0., 0., 0., 0., 0., 0., 0.],\n",
       "        [0., 0., 0., 0., 1., 0., 0., 0., 0., 0.]], dtype=torch.float64)"
      ]
     },
     "execution_count": 9,
     "metadata": {},
     "output_type": "execute_result"
    }
   ],
   "source": [
    "train_ds[5:10][1]"
   ]
  },
  {
   "cell_type": "markdown",
   "id": "12ab0726",
   "metadata": {},
   "source": [
    "## Using dataloaders:\n",
    "We can now put the Dataset object inside a DataLoader class. This is useful because we can specify a **batch_size**. Each iteration through the dataloader will yield a tensor where the **first dimension** is equal to the batch_size."
   ]
  },
  {
   "cell_type": "code",
   "execution_count": 11,
   "id": "13e0b9ee",
   "metadata": {},
   "outputs": [],
   "source": [
    "train_dl = DataLoader(train_ds, batch_size = 5)"
   ]
  },
  {
   "cell_type": "code",
   "execution_count": 13,
   "id": "59476b2f",
   "metadata": {},
   "outputs": [
    {
     "name": "stdout",
     "output_type": "stream",
     "text": [
      "torch.Size([5, 28, 28])\n",
      "torch.Size([5, 10])\n"
     ]
    }
   ],
   "source": [
    "for x, y in train_dl:\n",
    "    print(x.shape)\n",
    "    print(y.shape)\n",
    "    break # only want one example"
   ]
  },
  {
   "cell_type": "markdown",
   "id": "5855de46",
   "metadata": {},
   "source": [
    "Since batch_size here is $5$, and there are $60000$ images, the length of the DataLoader object should be $12000$ (number of batches)"
   ]
  },
  {
   "cell_type": "code",
   "execution_count": 14,
   "id": "039ba49a",
   "metadata": {},
   "outputs": [
    {
     "data": {
      "text/plain": [
       "12000"
      ]
     },
     "execution_count": 14,
     "metadata": {},
     "output_type": "execute_result"
    }
   ],
   "source": [
    "len(train_dl)"
   ]
  },
  {
   "cell_type": "markdown",
   "id": "3a5d4b07",
   "metadata": {},
   "source": [
    "### Cross entropy loss: "
   ]
  },
  {
   "cell_type": "code",
   "execution_count": 15,
   "id": "c9101478",
   "metadata": {},
   "outputs": [],
   "source": [
    "L = nn.CrossEntropyLoss()"
   ]
  },
  {
   "cell_type": "markdown",
   "id": "bde1f57a",
   "metadata": {},
   "source": [
    "### The Network:"
   ]
  },
  {
   "cell_type": "code",
   "execution_count": 23,
   "id": "ba4ec3f5",
   "metadata": {},
   "outputs": [],
   "source": [
    "class MyNeuralNet(nn.Module):\n",
    "    def __init__(self):\n",
    "        super().__init__()\n",
    "        self.Matrix1 = nn.Linear(28*28, 100)\n",
    "        self.Matrix2 = nn.Linear(100, 50)\n",
    "        self.Matrix3 = nn.Linear(50, 10)\n",
    "        self.R = nn.ReLU()\n",
    "    def forward(self, x):\n",
    "        x = x.view(-1, 28*28)\n",
    "        x = self.R(self.Matrix1(x))\n",
    "        x = self.R(self.Matrix2(x))        \n",
    "        x = self.Matrix3(x)\n",
    "        return x.squeeze()"
   ]
  },
  {
   "cell_type": "code",
   "execution_count": 24,
   "id": "9100923d",
   "metadata": {},
   "outputs": [],
   "source": [
    "f = MyNeuralNet()"
   ]
  },
  {
   "cell_type": "markdown",
   "id": "67b095d7",
   "metadata": {},
   "source": [
    "Look at predictions before the optimization:"
   ]
  },
  {
   "cell_type": "code",
   "execution_count": 25,
   "id": "26a976be",
   "metadata": {},
   "outputs": [
    {
     "data": {
      "text/plain": [
       "tensor([[ 0.0123,  0.1811, -0.1312,  0.0050,  0.1147,  0.0407,  0.2408,  0.1182,\n",
       "          0.0510,  0.0550],\n",
       "        [-0.0016,  0.2129, -0.1230,  0.0195,  0.1228,  0.0148,  0.1911,  0.0976,\n",
       "          0.0567, -0.0095],\n",
       "        [-0.0148,  0.1712, -0.1578,  0.0104,  0.1553, -0.0202,  0.1532,  0.0631,\n",
       "          0.0422,  0.0061],\n",
       "        [-0.0130,  0.1884, -0.1700,  0.0011,  0.1432, -0.0137,  0.1775,  0.1041,\n",
       "          0.0405, -0.0094]], grad_fn=<SqueezeBackward0>)"
      ]
     },
     "execution_count": 25,
     "metadata": {},
     "output_type": "execute_result"
    }
   ],
   "source": [
    "xs, ys = train_ds[0:4]\n",
    "f(xs)"
   ]
  },
  {
   "cell_type": "code",
   "execution_count": 26,
   "id": "6028e82f",
   "metadata": {},
   "outputs": [
    {
     "data": {
      "text/plain": [
       "tensor([[0., 0., 0., 0., 0., 1., 0., 0., 0., 0.],\n",
       "        [1., 0., 0., 0., 0., 0., 0., 0., 0., 0.],\n",
       "        [0., 0., 0., 0., 1., 0., 0., 0., 0., 0.],\n",
       "        [0., 1., 0., 0., 0., 0., 0., 0., 0., 0.]], dtype=torch.float64)"
      ]
     },
     "execution_count": 26,
     "metadata": {},
     "output_type": "execute_result"
    }
   ],
   "source": [
    "ys"
   ]
  },
  {
   "cell_type": "markdown",
   "id": "525f3756",
   "metadata": {},
   "source": [
    "**Loss of these predictions**"
   ]
  },
  {
   "cell_type": "code",
   "execution_count": 27,
   "id": "f5dbac5a",
   "metadata": {},
   "outputs": [
    {
     "data": {
      "text/plain": [
       "tensor(2.2649, dtype=torch.float64, grad_fn=<DivBackward1>)"
      ]
     },
     "execution_count": 27,
     "metadata": {},
     "output_type": "execute_result"
    }
   ],
   "source": [
    "L(f(xs), ys)"
   ]
  },
  {
   "cell_type": "markdown",
   "id": "1603e18b",
   "metadata": {},
   "source": [
    "## Training"
   ]
  },
  {
   "cell_type": "code",
   "execution_count": 29,
   "id": "78eb19e4",
   "metadata": {},
   "outputs": [],
   "source": [
    "def train_model(dl, f, n_epochs = 20):\n",
    "    opt = SGD(f.parameters(), lr = 0.01)\n",
    "    L = nn.CrossEntropyLoss()\n",
    "    \n",
    "    losses = []\n",
    "    epochs = []\n",
    "    for epoch in range(n_epochs):\n",
    "        print('Epoch {}'.format(epoch))\n",
    "        N = len(dl)\n",
    "        for i, (x, y) in enumerate(dl):\n",
    "            opt.zero_grad()\n",
    "            loss_value = L(f(x), y)\n",
    "            loss_value.backward()\n",
    "            opt.step()\n",
    "            \n",
    "            epochs.append(epoch+i/N)\n",
    "            losses.append(loss_value.item())\n",
    "    return np.array(epochs), np.array(losses)"
   ]
  },
  {
   "cell_type": "code",
   "execution_count": 30,
   "id": "e0d666e1",
   "metadata": {},
   "outputs": [
    {
     "name": "stdout",
     "output_type": "stream",
     "text": [
      "Epoch 0\n",
      "Epoch 1\n",
      "Epoch 2\n",
      "Epoch 3\n",
      "Epoch 4\n",
      "Epoch 5\n",
      "Epoch 6\n",
      "Epoch 7\n",
      "Epoch 8\n",
      "Epoch 9\n",
      "Epoch 10\n",
      "Epoch 11\n",
      "Epoch 12\n",
      "Epoch 13\n",
      "Epoch 14\n",
      "Epoch 15\n",
      "Epoch 16\n",
      "Epoch 17\n",
      "Epoch 18\n",
      "Epoch 19\n"
     ]
    }
   ],
   "source": [
    "# this will take aroung 3-4 minutes\n",
    "epoch_data, loss_data = train_model(train_dl, f)"
   ]
  },
  {
   "cell_type": "code",
   "execution_count": null,
   "id": "286c3c3c",
   "metadata": {},
   "outputs": [],
   "source": []
  }
 ],
 "metadata": {
  "kernelspec": {
   "display_name": "Python 3 (ipykernel)",
   "language": "python",
   "name": "python3"
  },
  "language_info": {
   "codemirror_mode": {
    "name": "ipython",
    "version": 3
   },
   "file_extension": ".py",
   "mimetype": "text/x-python",
   "name": "python",
   "nbconvert_exporter": "python",
   "pygments_lexer": "ipython3",
   "version": "3.9.12"
  }
 },
 "nbformat": 4,
 "nbformat_minor": 5
}
